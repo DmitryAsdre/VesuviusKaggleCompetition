{
 "cells": [
  {
   "cell_type": "code",
   "execution_count": 1,
   "metadata": {},
   "outputs": [],
   "source": [
    "import cv2\n",
    "import numpy as np\n",
    "import matplotlib.pyplot as plt\n",
    "import tqdm"
   ]
  },
  {
   "cell_type": "code",
   "execution_count": 2,
   "metadata": {},
   "outputs": [
    {
     "name": "stderr",
     "output_type": "stream",
     "text": [
      "100%|██████████| 65/65 [02:08<00:00,  1.97s/it]\n"
     ]
    },
    {
     "data": {
      "text/plain": [
       "True"
      ]
     },
     "execution_count": 2,
     "metadata": {},
     "output_type": "execute_result"
    }
   ],
   "source": [
    "mid = 14830 // 2\n",
    "for i in tqdm.tqdm(range(65)):\n",
    "    img = cv2.imread(f'../data/train/2/surface_volume/{i:02}.tif')\n",
    "    img2 = img[:mid, :, :]\n",
    "    img3 = img[mid:, :, :]\n",
    "    cv2.imwrite(f'../data_4_folds/train/2/surface_volume/{i:02}.tif', img2, params=(cv2.IMWRITE_TIFF_COMPRESSION, 1))\n",
    "    cv2.imwrite(f'../data_4_folds/train/3/surface_volume/{i:02}.tif', img3, params=(cv2.IMWRITE_TIFF_COMPRESSION, 1))\n",
    "\n",
    "inklabels = cv2.imread('../data/train/2/inklabels.png')\n",
    "inklabels2 = inklabels[:mid, :, :]\n",
    "inklabels3 = inklabels[mid:, :, :]\n",
    "cv2.imwrite('../data_4_folds/train/2/inklabels.png', inklabels2, params=[cv2.IMWRITE_PNG_COMPRESSION, 0])\n",
    "cv2.imwrite('../data_4_folds/train/3/inklabels.png', inklabels3, params=[cv2.IMWRITE_PNG_COMPRESSION, 0])\n",
    "\n",
    "ir = cv2.imread('../data/train/2/ir.png')\n",
    "ir2 = ir[:mid, :, :]\n",
    "ir3 = ir[mid:, :, :]\n",
    "cv2.imwrite('../data_4_folds/train/2/ir.png', ir2, params=[cv2.IMWRITE_PNG_COMPRESSION, 0])\n",
    "cv2.imwrite('../data_4_folds/train/3/ir.png', ir3, params=[cv2.IMWRITE_PNG_COMPRESSION, 0])\n",
    "\n",
    "mask = cv2.imread('../data/train/2/mask.png')\n",
    "mask2 = mask[:mid, :, :]\n",
    "mask3 = mask[mid:, :, :]\n",
    "cv2.imwrite('../data_4_folds/train/2/mask.png', mask2, params=[cv2.IMWRITE_PNG_COMPRESSION, 0])\n",
    "cv2.imwrite('../data_4_folds/train/3/mask.png', mask3, params=[cv2.IMWRITE_PNG_COMPRESSION, 0])"
   ]
  },
  {
   "cell_type": "code",
   "execution_count": null,
   "metadata": {},
   "outputs": [],
   "source": []
  }
 ],
 "metadata": {
  "kernelspec": {
   "display_name": "pytorch_vesuvius",
   "language": "python",
   "name": "python3"
  },
  "language_info": {
   "codemirror_mode": {
    "name": "ipython",
    "version": 3
   },
   "file_extension": ".py",
   "mimetype": "text/x-python",
   "name": "python",
   "nbconvert_exporter": "python",
   "pygments_lexer": "ipython3",
   "version": "3.10.11"
  },
  "orig_nbformat": 4
 },
 "nbformat": 4,
 "nbformat_minor": 2
}
